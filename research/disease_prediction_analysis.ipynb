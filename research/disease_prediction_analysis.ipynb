{
 "cells": [
  {
   "cell_type": "markdown",
   "metadata": {},
   "source": [
    "# Disease Prediction from Symptoms Analysis\n",
    "\n",
    "This notebook performs comprehensive analysis and modeling for disease prediction based on symptoms."
   ]
  },
  {
   "cell_type": "code",
   "execution_count": 2,
   "metadata": {},
   "outputs": [],
   "source": [
    "import pandas as pd\n",
    "import numpy as np\n",
    "import matplotlib.pyplot as plt\n",
    "import seaborn as sns\n",
    "from sklearn.model_selection import train_test_split, cross_val_score\n",
    "from sklearn.preprocessing import LabelEncoder, StandardScaler\n",
    "from sklearn.metrics import accuracy_score, classification_report, confusion_matrix\n",
    "import tensorflow as tf\n",
    "from sklearn.ensemble import RandomForestClassifier, GradientBoostingClassifier\n",
    "from sklearn.svm import SVC\n",
    "from xgboost import XGBClassifier\n",
    "import os\n",
    "import warnings\n",
    "warnings.filterwarnings('ignore')"
   ]
  },
  {
   "cell_type": "markdown",
   "metadata": {},
   "source": [
    "## 1. Data Loading and Initial Analysis"
   ]
  },
  {
   "cell_type": "code",
   "execution_count": 5,
   "metadata": {},
   "outputs": [
    {
     "name": "stdout",
     "output_type": "stream",
     "text": [
      "Dataset Shape: (4920, 18)\n",
      "\n",
      "Number of unique diseases: 41\n",
      "\n",
      "Sample diseases: ['Fungal infection' 'Allergy' 'GERD' 'Chronic cholestasis' 'Drug Reaction']\n",
      "\n",
      "Total unique symptoms: 131\n"
     ]
    }
   ],
   "source": [
    "# Load the datasets\n",
    "data_path = 'D:\\External_Projects\\shivanand_mca\\data\\disease_symptom_data'\n",
    "df = pd.read_csv(os.path.join(data_path, 'dataset.csv'))\n",
    "severity_df = pd.read_csv(os.path.join(data_path, 'Symptom-severity.csv'))\n",
    "description_df = pd.read_csv(os.path.join(data_path, 'symptom_Description.csv'))\n",
    "\n",
    "# Display basic information\n",
    "print(\"Dataset Shape:\", df.shape)\n",
    "print(\"\\nNumber of unique diseases:\", df['Disease'].nunique())\n",
    "print(\"\\nSample diseases:\", df['Disease'].unique()[:5])\n",
    "\n",
    "# Analyze symptoms distribution\n",
    "symptoms_cols = df.columns[1:]\n",
    "all_symptoms = df[symptoms_cols].values.ravel()\n",
    "unique_symptoms = pd.Series([x for x in all_symptoms if pd.notna(x)]).unique()\n",
    "print(\"\\nTotal unique symptoms:\", len(unique_symptoms))"
   ]
  },
  {
   "cell_type": "markdown",
   "metadata": {},
   "source": [
    "## 2. Data Preprocessing and Feature Engineering"
   ]
  },
  {
   "cell_type": "code",
   "execution_count": 6,
   "metadata": {},
   "outputs": [],
   "source": [
    "def preprocess_data(df, severity_df):\n",
    "    # Create symptom severity dictionary\n",
    "    severity_dict = dict(zip(severity_df['Symptom'], severity_df['weight']))\n",
    "    \n",
    "    # Create feature matrix\n",
    "    symptoms = df.columns[1:]\n",
    "    X = df[symptoms]\n",
    "    y = df['Disease']\n",
    "    \n",
    "    # Replace NaN with 0 and other values with 1 (presence of symptom)\n",
    "    X = X.fillna(0)\n",
    "    X = X.apply(lambda x: x.map(lambda x: 1 if isinstance(x, str) else 0))\n",
    "    \n",
    "    # Add severity features\n",
    "    severity_features = []\n",
    "    for _, row in X.iterrows():\n",
    "        severity = 0\n",
    "        for symptom in symptoms:\n",
    "            if row[symptom] == 1:\n",
    "                if symptom.strip() in severity_dict:\n",
    "                    severity += severity_dict[symptom.strip()]\n",
    "        severity_features.append(severity)\n",
    "    \n",
    "    X['symptom_severity'] = severity_features\n",
    "    \n",
    "    # Encode disease labels\n",
    "    le = LabelEncoder()\n",
    "    y = le.fit_transform(y)\n",
    "    \n",
    "    return X, y, le\n",
    "\n",
    "# Preprocess the data\n",
    "X, y, label_encoder = preprocess_data(df, severity_df)\n",
    "\n",
    "# Split the data\n",
    "X_train, X_test, y_train, y_test = train_test_split(X, y, test_size=0.2, random_state=42)"
   ]
  },
  {
   "cell_type": "markdown",
   "metadata": {},
   "source": [
    "## 3. Model Training and Evaluation"
   ]
  },
  {
   "cell_type": "code",
   "execution_count": 7,
   "metadata": {},
   "outputs": [
    {
     "name": "stdout",
     "output_type": "stream",
     "text": [
      "Training random_forest...\n",
      "Training gradient_boosting...\n",
      "Training svm...\n",
      "Training xgboost...\n"
     ]
    }
   ],
   "source": [
    "def train_evaluate_model(model, X_train, X_test, y_train, y_test, model_name):\n",
    "    # Train the model\n",
    "    model.fit(X_train, y_train)\n",
    "    \n",
    "    # Make predictions\n",
    "    y_pred = model.predict(X_test)\n",
    "    \n",
    "    # Calculate metrics\n",
    "    accuracy = accuracy_score(y_test, y_pred)\n",
    "    report = classification_report(y_test, y_pred)\n",
    "    \n",
    "    # Perform cross-validation\n",
    "    cv_scores = cross_val_score(model, X_train, y_train, cv=5)\n",
    "    \n",
    "    # Save the model\n",
    "    model_save_path = os.path.join('..', 'models', f'disease-pred-by-symptoms_{model_name}.pkl')\n",
    "    os.makedirs(os.path.dirname(model_save_path), exist_ok=True)\n",
    "    import joblib\n",
    "    joblib.dump(model, model_save_path)\n",
    "    \n",
    "    return {\n",
    "        'accuracy': accuracy,\n",
    "        'cv_mean': cv_scores.mean(),\n",
    "        'cv_std': cv_scores.std(),\n",
    "        'report': report\n",
    "    }\n",
    "\n",
    "# Train multiple models\n",
    "models = {\n",
    "    'random_forest': RandomForestClassifier(n_estimators=100, random_state=42),\n",
    "    'gradient_boosting': GradientBoostingClassifier(n_estimators=100, random_state=42),\n",
    "    'svm': SVC(kernel='rbf', random_state=42),\n",
    "    'xgboost': XGBClassifier(n_estimators=100, random_state=42)\n",
    "}\n",
    "\n",
    "results = {}\n",
    "for name, model in models.items():\n",
    "    print(f\"Training {name}...\")\n",
    "    results[name] = train_evaluate_model(model, X_train, X_test, y_train, y_test, name)"
   ]
  },
  {
   "cell_type": "markdown",
   "metadata": {},
   "source": [
    "## 4. Neural Network Model"
   ]
  },
  {
   "cell_type": "code",
   "execution_count": null,
   "metadata": {},
   "outputs": [],
   "source": [
    "def create_nn_model(input_dim, num_classes):\n",
    "    model = tf.keras.Sequential([\n",
    "        tf.keras.layers.Dense(256, activation='relu', input_dim=input_dim),\n",
    "        tf.keras.layers.Dropout(0.3),\n",
    "        tf.keras.layers.Dense(128, activation='relu'),\n",
    "        tf.keras.layers.Dropout(0.2),\n",
    "        tf.keras.layers.Dense(64, activation='relu'),\n",
    "        tf.keras.layers.Dense(num_classes, activation='softmax')\n",
    "    ])\n",
    "    \n",
    "    model.compile(\n",
    "        optimizer='adam',\n",
    "        loss='sparse_categorical_crossentropy',\n",
    "        metrics=['accuracy']\n",
    "    )\n",
    "    \n",
    "    return model\n",
    "\n",
    "# Train neural network\n",
    "nn_model = create_nn_model(X_train.shape[1], len(np.unique(y)))\n",
    "history = nn_model.fit(\n",
    "    X_train, y_train,\n",
    "    validation_split=0.2,\n",
    "    epochs=50,\n",
    "    batch_size=32,\n",
    "    verbose=1\n",
    ")\n",
    "\n",
    "# Save the neural network model\n",
    "nn_save_path = os.path.join('D:\\External_Projects\\shivanand_mca', 'models', 'disease-pred-by-symptoms_neural_network')\n",
    "nn_model.save(nn_save_path)\n",
    "\n",
    "# Evaluate neural network\n",
    "nn_eval = nn_model.evaluate(X_test, y_test)\n",
    "results['neural_network'] = {\n",
    "    'accuracy': nn_eval[1],\n",
    "    'cv_mean': np.mean(history.history['val_accuracy']),\n",
    "    'cv_std': np.std(history.history['val_accuracy'])\n",
    "}"
   ]
  },
  {
   "cell_type": "markdown",
   "metadata": {},
   "source": [
    "## 5. Results Visualization and Comparison"
   ]
  },
  {
   "cell_type": "code",
   "execution_count": 10,
   "metadata": {},
   "outputs": [
    {
     "name": "stdout",
     "output_type": "stream",
     "text": [
      "Model Comparison:\n",
      "               Model  Test Accuracy  CV Mean Accuracy    CV Std\n",
      "0      random_forest       0.180894          0.213414  0.001079\n",
      "1  gradient_boosting       0.180894          0.213414  0.001761\n",
      "3            xgboost       0.180894          0.211127  0.005950\n",
      "2                svm       0.172764          0.217226  0.004918\n"
     ]
    },
    {
     "data": {
      "image/png": "[encoded data removed]",
      "text/plain": [
       "<Figure size 1200x600 with 1 Axes>"
      ]
     },
     "metadata": {},
     "output_type": "display_data"
    }
   ],
   "source": [
    "def plot_model_comparison(results):\n",
    "    models = list(results.keys())\n",
    "    accuracies = [results[m]['accuracy'] for m in models]\n",
    "    cv_means = [results[m]['cv_mean'] for m in models]\n",
    "    cv_stds = [results[m]['cv_std'] for m in models]\n",
    "    \n",
    "    x = np.arange(len(models))\n",
    "    width = 0.35\n",
    "    \n",
    "    fig, ax = plt.subplots(figsize=(12, 6))\n",
    "    rects1 = ax.bar(x - width/2, accuracies, width, label='Test Accuracy')\n",
    "    rects2 = ax.bar(x + width/2, cv_means, width, label='CV Mean Accuracy')\n",
    "    \n",
    "    ax.set_ylabel('Accuracy')\n",
    "    ax.set_title('Model Performance Comparison')\n",
    "    ax.set_xticks(x)\n",
    "    ax.set_xticklabels(models, rotation=45)\n",
    "    ax.legend()\n",
    "    \n",
    "    plt.tight_layout()\n",
    "    plt.show()\n",
    "\n",
    "# Create comparison table\n",
    "comparison_df = pd.DataFrame({\n",
    "    'Model': results.keys(),\n",
    "    'Test Accuracy': [results[m]['accuracy'] for m in results],\n",
    "    'CV Mean Accuracy': [results[m]['cv_mean'] for m in results],\n",
    "    'CV Std': [results[m]['cv_std'] for m in results]\n",
    "})\n",
    "\n",
    "print(\"Model Comparison:\")\n",
    "print(comparison_df.sort_values('Test Accuracy', ascending=False))\n",
    "\n",
    "# Plot comparison\n",
    "plot_model_comparison(results)"
   ]
  },
  {
   "cell_type": "code",
   "execution_count": null,
   "metadata": {},
   "outputs": [],
   "source": []
  }
 ],
 "metadata": {
  "kernelspec": {
   "display_name": ".venv",
   "language": "python",
   "name": "python3"
  },
  "language_info": {
   "codemirror_mode": {
    "name": "ipython",
    "version": 3
   },
   "file_extension": ".py",
   "mimetype": "text/x-python",
   "name": "python",
   "nbconvert_exporter": "python",
   "pygments_lexer": "ipython3",
   "version": "3.12.0"
  }
 },
 "nbformat": 4,
 "nbformat_minor": 4
}
